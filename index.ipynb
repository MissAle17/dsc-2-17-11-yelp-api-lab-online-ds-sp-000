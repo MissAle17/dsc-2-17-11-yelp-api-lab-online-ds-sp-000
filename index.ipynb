{
 "cells": [
  {
   "cell_type": "markdown",
   "metadata": {},
   "source": [
    "# Yelp API - Lab\n",
    "\n",
    "The previously deployed lab on working around building a GIS with Yelp API and Folium can be found [here](https://github.com/learn-co-curriculum/dsc-2-15-10-yelp-api-gis-lab/tree/a56358c2d0c2daf569a5f50937c4c27463aadb1a) (not relevant for new students).\n",
    "\n",
    "\n",
    "## Introduction \n",
    "\n",
    "Now that we've seen how the Yelp API works, and some basic Folium visualizations its time to put those skills to work in order to create a working map! Taking things a step further, you'll also independently explore how to perform pagination in order to retrieve a full results set from the Yelp API!\n",
    "\n",
    "## Objectives\n",
    "\n",
    "You will be able to: \n",
    "* Create HTTP requests to get data from Yelp API\n",
    "* Parse HTTP responses and perform data analysis on the data returned\n",
    "* Perform pagination to retrieve troves of data!\n",
    "* Create a simple geographical system on to view information about selected businesses, at a given location. "
   ]
  },
  {
   "cell_type": "markdown",
   "metadata": {},
   "source": [
    "## Problem Introduction\n",
    "\n",
    "You've now worked with some API calls, but we have yet to see how to retrieve a more complete dataset in a programmatic manner. Returning to the Yelp API, the [documentation](https://www.yelp.com/developers/documentation/v3/business_search) also provides us details regarding the API limits. These often include details about the number of requests a user is allowed to make within a specified time limit and the maximum number of results to be returned. In this case, we are told that any request has a maximum of 50 results per request and defaults to 20. Furthermore, any search will be limited to a total of 1000 results. To retrieve all 1000 of these results, we would have to page through the results piece by piece, retriving 50 at a time. Processes such as these are often refered to as pagination.\n",
    "\n",
    "In this lab, you will define a search and then paginate over the results to retrieve all of the results. You'll then parse these responses as a DataFrame (for further exploration) and create a map using Folium to visualize the results geographically."
   ]
  },
  {
   "cell_type": "markdown",
   "metadata": {},
   "source": [
    "## Part I - Make the Initial Request\n",
    "\n",
    "Start by making an initial request to the Yelp API. Your search must include at least 2 parameters: **term** and **location**. For example, you might search for pizza restaurants in NYC. The term and location is up to you, but make the request below."
   ]
  },
  {
   "cell_type": "code",
   "execution_count": 1,
   "metadata": {},
   "outputs": [],
   "source": [
    "import requests"
   ]
  },
  {
   "cell_type": "code",
   "execution_count": 2,
   "metadata": {},
   "outputs": [],
   "source": [
    "client_id = 'bpGwj6-OcRw04j7y6Lh6hg'\n",
    "api_key = 'GvPReLQDlRC5VO5B81lG748wh5M3Y5kcQ9xm5O1x5BY0V_YdLBWhSQbARv-FPXzKPUhW8dsR9i2gEg-w7w66IpE_QLqepLoicMSvNhE_N2-VVciQ78hZY-wmtHJxXHYx'"
   ]
  },
  {
   "cell_type": "code",
   "execution_count": 3,
   "metadata": {},
   "outputs": [
    {
     "name": "stdout",
     "output_type": "stream",
     "text": [
      "<Response [200]>\n",
      "<class 'str'>\n",
      "{\"businesses\": [{\"id\": \"x0k5kFArHLijdY8-NEQ7Xg\", \"alias\": \"bengal-tiger-indian-food-new-york\", \"name\": \"Bengal Tiger Indian Food\", \"image_url\": \"https://s3-media1.fl.yelpcdn.com/bphoto/skrQkDFtcnaHkTxnx9jYew/o.jpg\", \"is_closed\": false, \"url\": \"https://www.yelp.com/biz/bengal-tiger-indian-food-new-york?adjust_creative=bpGwj6-OcRw04j7y6Lh6hg&utm_campaign=yelp_api_v3&utm_medium=api_v3_business_search&utm_source=bpGwj6-OcRw04j7y6Lh6hg\", \"review_count\": 1434, \"categories\": [{\"alias\": \"indpak\", \"title\": \"Indian\"}], \"rating\": 4.5, \"coordinates\": {\"latitude\": 40.763167, \"longitude\": -73.977131}, \"transactions\": [\"delivery\", \"pickup\"], \"price\": \"$$\", \"location\": {\"address1\": \"58 W 56th St\", \"address2\": \"Fl 2\", \"address3\": \"\", \"city\": \"New York\", \"zip_code\": \"10019\", \"country\": \"US\", \"state\": \"NY\", \"display_address\": [\"58 W 56th St\", \"Fl 2\", \"New York, NY 10019\"]}, \"phone\": \"+12122652703\", \"display_phone\": \"(212) 265-2703\", \"distance\": 347.92812342067185}, {\"id\": \"sCC7-hSdCkNPExejZT9BAQ\", \"alias\n"
     ]
    }
   ],
   "source": [
    "term = 'Indian'\n",
    "location = 'Manhattan NY'\n",
    "SEARCH_LIMIT = 10\n",
    "\n",
    "url = 'https://api.yelp.com/v3/businesses/search'\n",
    "\n",
    "headers = {\n",
    "        'Authorization': 'Bearer {}'.format(api_key),\n",
    "    }\n",
    "\n",
    "url_params = {\n",
    "                'term': term.replace(' ', '+'),\n",
    "                'location': location.replace(' ', '+'),\n",
    "                'limit': SEARCH_LIMIT\n",
    "            }\n",
    "response = requests.get(url, headers=headers, params=url_params)\n",
    "print(response)\n",
    "print(type(response.text))\n",
    "print(response.text[:1000])\n"
   ]
  },
  {
   "cell_type": "markdown",
   "metadata": {},
   "source": [
    "## Pagination\n",
    "\n",
    "Now that you have an initial response, you can examine the contents of the json container. For example, you might start with ```response.josn().keys()```. Here, you'll see a key for `'total'`, which tells you the full number of matching results given your query parameters. Write a loop (or ideally a function) which then makes successive API calls using the offset parameter to retrieve all of the results (or 5000 for a particularly large result set) for the original query. As you do this, be mindful of how you store the data. Your final goal will be to reformat the data concerning the businesses themselves into a pandas DataFrame from the json objects.\n",
    "\n",
    "**Note: be mindful of the API rate limits. You can only make 5000 requests per day, and are also can make requests too fast. Start prototyping small before running a loop that could be faulty. You can also use time.sleep(n) to add delays. For more details see https://www.yelp.com/developers/documentation/v3/rate_limiting.**"
   ]
  },
  {
   "cell_type": "code",
   "execution_count": 4,
   "metadata": {},
   "outputs": [
    {
     "data": {
      "text/plain": [
       "dict_keys(['businesses', 'total', 'region'])"
      ]
     },
     "execution_count": 4,
     "metadata": {},
     "output_type": "execute_result"
    }
   ],
   "source": [
    "# Your code here; use a function or loop to retrieve all the results from your original request\n",
    "response.json().keys()"
   ]
  },
  {
   "cell_type": "code",
   "execution_count": 5,
   "metadata": {},
   "outputs": [
    {
     "name": "stdout",
     "output_type": "stream",
     "text": [
      "businesses\n",
      "<class 'list'>\n",
      "\n",
      "\n",
      "\n",
      "total\n",
      "<class 'int'>\n",
      "\n",
      "\n",
      "\n",
      "region\n",
      "<class 'dict'>\n",
      "\n",
      "\n",
      "\n"
     ]
    }
   ],
   "source": [
    "for key in response.json().keys():\n",
    "    print(key)\n",
    "    value = response.json()[key] #Use standard dictionary formatting\n",
    "    print(type(value)) #What type is it?\n",
    "    print('\\n\\n') #Seperate out data\n"
   ]
  },
  {
   "cell_type": "code",
   "execution_count": 6,
   "metadata": {},
   "outputs": [
    {
     "data": {
      "text/plain": [
       "10"
      ]
     },
     "execution_count": 6,
     "metadata": {},
     "output_type": "execute_result"
    }
   ],
   "source": [
    "len(response.json()['businesses'])"
   ]
  },
  {
   "cell_type": "code",
   "execution_count": 7,
   "metadata": {},
   "outputs": [
    {
     "name": "stdout",
     "output_type": "stream",
     "text": [
      "{'id': 'x0k5kFArHLijdY8-NEQ7Xg', 'alias': 'bengal-tiger-indian-food-new-york', 'name': 'Bengal Tiger Indian Food', 'image_url': 'https://s3-media1.fl.yelpcdn.com/bphoto/skrQkDFtcnaHkTxnx9jYew/o.jpg', 'is_closed': False, 'url': 'https://www.yelp.com/biz/bengal-tiger-indian-food-new-york?adjust_creative=bpGwj6-OcRw04j7y6Lh6hg&utm_campaign=yelp_api_v3&utm_medium=api_v3_business_search&utm_source=bpGwj6-OcRw04j7y6Lh6hg', 'review_count': 1434, 'categories': [{'alias': 'indpak', 'title': 'Indian'}], 'rating': 4.5, 'coordinates': {'latitude': 40.763167, 'longitude': -73.977131}, 'transactions': ['delivery', 'pickup'], 'price': '$$', 'location': {'address1': '58 W 56th St', 'address2': 'Fl 2', 'address3': '', 'city': 'New York', 'zip_code': '10019', 'country': 'US', 'state': 'NY', 'display_address': ['58 W 56th St', 'Fl 2', 'New York, NY 10019']}, 'phone': '+12122652703', 'display_phone': '(212) 265-2703', 'distance': 347.92812342067185}\n",
      "\n",
      "\n",
      "\n",
      "{'id': 'sCC7-hSdCkNPExejZT9BAQ', 'alias': 'the-masalawala-new-york-2', 'name': 'The MasalaWala', 'image_url': 'https://s3-media4.fl.yelpcdn.com/bphoto/4fxSLoYtYtP-lDIRQZ-LJw/o.jpg', 'is_closed': False, 'url': 'https://www.yelp.com/biz/the-masalawala-new-york-2?adjust_creative=bpGwj6-OcRw04j7y6Lh6hg&utm_campaign=yelp_api_v3&utm_medium=api_v3_business_search&utm_source=bpGwj6-OcRw04j7y6Lh6hg', 'review_count': 1304, 'categories': [{'alias': 'indpak', 'title': 'Indian'}, {'alias': 'pakistani', 'title': 'Pakistani'}], 'rating': 4.5, 'coordinates': {'latitude': 40.72191, 'longitude': -73.98666}, 'transactions': ['restaurant_reservation', 'delivery', 'pickup'], 'price': '$$', 'location': {'address1': '179 Essex St', 'address2': '', 'address3': '', 'city': 'New York', 'zip_code': '10002', 'country': 'US', 'state': 'NY', 'display_address': ['179 Essex St', 'New York, NY 10002']}, 'phone': '+12123589300', 'display_phone': '(212) 358-9300', 'distance': 4313.1401359991}\n",
      "\n",
      "\n",
      "\n",
      "{'id': 'izRJeBfDQYJmd6ibIQ6Mfg', 'alias': 'mughlai-indian-cuisine-new-york-4', 'name': 'Mughlai Indian Cuisine', 'image_url': 'https://s3-media2.fl.yelpcdn.com/bphoto/DNsKeryjY2uBsavRUdc2hw/o.jpg', 'is_closed': False, 'url': 'https://www.yelp.com/biz/mughlai-indian-cuisine-new-york-4?adjust_creative=bpGwj6-OcRw04j7y6Lh6hg&utm_campaign=yelp_api_v3&utm_medium=api_v3_business_search&utm_source=bpGwj6-OcRw04j7y6Lh6hg', 'review_count': 381, 'categories': [{'alias': 'indpak', 'title': 'Indian'}], 'rating': 4.5, 'coordinates': {'latitude': 40.78002, 'longitude': -73.94978}, 'transactions': ['delivery', 'pickup'], 'price': '$$', 'location': {'address1': '1724 2nd Ave', 'address2': '', 'address3': '', 'city': 'New York', 'zip_code': '10128', 'country': 'US', 'state': 'NY', 'display_address': ['1724 2nd Ave', 'New York, NY 10128']}, 'phone': '+12127226262', 'display_phone': '(212) 722-6262', 'distance': 3269.3045513976203}\n",
      "\n",
      "\n",
      "\n",
      "{'id': '1_pK5aQ47atF50oAKHADhA', 'alias': 'indian-accent-new-york', 'name': 'Indian Accent', 'image_url': 'https://s3-media2.fl.yelpcdn.com/bphoto/QJrR6LJt07yYb9lNLLbLVQ/o.jpg', 'is_closed': False, 'url': 'https://www.yelp.com/biz/indian-accent-new-york?adjust_creative=bpGwj6-OcRw04j7y6Lh6hg&utm_campaign=yelp_api_v3&utm_medium=api_v3_business_search&utm_source=bpGwj6-OcRw04j7y6Lh6hg', 'review_count': 466, 'categories': [{'alias': 'indpak', 'title': 'Indian'}], 'rating': 4.5, 'coordinates': {'latitude': 40.7643344624229, 'longitude': -73.9787312885132}, 'transactions': [], 'price': '$$$$', 'location': {'address1': '123 W 56th St', 'address2': '', 'address3': '', 'city': 'New York', 'zip_code': '10019', 'country': 'US', 'state': 'NY', 'display_address': ['123 W 56th St', 'New York, NY 10019']}, 'phone': '+12128428070', 'display_phone': '(212) 842-8070', 'distance': 458.4854192654005}\n",
      "\n",
      "\n",
      "\n",
      "{'id': 'HEs6llkn3wIP1ATXeIZQew', 'alias': 'pippali-new-york', 'name': 'Pippali', 'image_url': 'https://s3-media2.fl.yelpcdn.com/bphoto/kqeBc_ItizjF_qbQotpRKw/o.jpg', 'is_closed': False, 'url': 'https://www.yelp.com/biz/pippali-new-york?adjust_creative=bpGwj6-OcRw04j7y6Lh6hg&utm_campaign=yelp_api_v3&utm_medium=api_v3_business_search&utm_source=bpGwj6-OcRw04j7y6Lh6hg', 'review_count': 661, 'categories': [{'alias': 'indpak', 'title': 'Indian'}], 'rating': 4.0, 'coordinates': {'latitude': 40.74233, 'longitude': -73.98331}, 'transactions': ['restaurant_reservation', 'delivery', 'pickup'], 'price': '$$', 'location': {'address1': '129 E 27th St', 'address2': '', 'address3': '', 'city': 'New York', 'zip_code': '10016', 'country': 'US', 'state': 'NY', 'display_address': ['129 E 27th St', 'New York, NY 10016']}, 'phone': '+12126891999', 'display_phone': '(212) 689-1999', 'distance': 2027.80061226141}\n",
      "\n",
      "\n",
      "\n",
      "{'id': 'ZikqL-flwV2XYlKtL2UfmA', 'alias': 'rangoli-exquisite-indian-cuisine-new-york', 'name': 'Rangoli Exquisite Indian Cuisine', 'image_url': 'https://s3-media3.fl.yelpcdn.com/bphoto/Qr1VxBs_9aPmk9BxfJGQ5A/o.jpg', 'is_closed': False, 'url': 'https://www.yelp.com/biz/rangoli-exquisite-indian-cuisine-new-york?adjust_creative=bpGwj6-OcRw04j7y6Lh6hg&utm_campaign=yelp_api_v3&utm_medium=api_v3_business_search&utm_source=bpGwj6-OcRw04j7y6Lh6hg', 'review_count': 362, 'categories': [{'alias': 'indpak', 'title': 'Indian'}, {'alias': 'desserts', 'title': 'Desserts'}, {'alias': 'seafood', 'title': 'Seafood'}], 'rating': 4.5, 'coordinates': {'latitude': 40.7693, 'longitude': -73.95823}, 'transactions': ['delivery', 'pickup'], 'price': '$$', 'location': {'address1': '1393 A 2nd Ave', 'address2': '', 'address3': '', 'city': 'New York', 'zip_code': '10021', 'country': 'US', 'state': 'NY', 'display_address': ['1393 A 2nd Ave', 'New York, NY 10021']}, 'phone': '+12126283800', 'display_phone': '(212) 628-3800', 'distance': 1980.7092510171008}\n",
      "\n",
      "\n",
      "\n",
      "{'id': '15svH3HiVDwHMSIlRYpk6A', 'alias': 'ashoka-indian-restaurant-new-york', 'name': 'Ashoka Indian Restaurant', 'image_url': 'https://s3-media4.fl.yelpcdn.com/bphoto/SEmg93OjFxHiC4dFi-_FMw/o.jpg', 'is_closed': False, 'url': 'https://www.yelp.com/biz/ashoka-indian-restaurant-new-york?adjust_creative=bpGwj6-OcRw04j7y6Lh6hg&utm_campaign=yelp_api_v3&utm_medium=api_v3_business_search&utm_source=bpGwj6-OcRw04j7y6Lh6hg', 'review_count': 218, 'categories': [{'alias': 'indpak', 'title': 'Indian'}], 'rating': 4.5, 'coordinates': {'latitude': 40.78476, 'longitude': -73.97303}, 'transactions': ['restaurant_reservation', 'delivery', 'pickup'], 'price': '$$', 'location': {'address1': '489 Columbus Ave', 'address2': '', 'address3': None, 'city': 'New York', 'zip_code': '10024', 'country': 'US', 'state': 'NY', 'display_address': ['489 Columbus Ave', 'New York, NY 10024']}, 'phone': '+12128751400', 'display_phone': '(212) 875-1400', 'distance': 2768.55261253693}\n",
      "\n",
      "\n",
      "\n",
      "{'id': '9pMhRYYgV7E9L7pzECtJKA', 'alias': 'the-drunken-munkey-ues-new-york', 'name': 'The Drunken Munkey - UES', 'image_url': 'https://s3-media2.fl.yelpcdn.com/bphoto/GgyYVXAY1-AFFZHYeBa6dQ/o.jpg', 'is_closed': False, 'url': 'https://www.yelp.com/biz/the-drunken-munkey-ues-new-york?adjust_creative=bpGwj6-OcRw04j7y6Lh6hg&utm_campaign=yelp_api_v3&utm_medium=api_v3_business_search&utm_source=bpGwj6-OcRw04j7y6Lh6hg', 'review_count': 849, 'categories': [{'alias': 'indpak', 'title': 'Indian'}, {'alias': 'cocktailbars', 'title': 'Cocktail Bars'}], 'rating': 4.5, 'coordinates': {'latitude': 40.78098, 'longitude': -73.94751}, 'transactions': ['restaurant_reservation', 'delivery', 'pickup'], 'price': '$$', 'location': {'address1': '338 E 92nd St', 'address2': None, 'address3': '', 'city': 'New York', 'zip_code': '10128', 'country': 'US', 'state': 'NY', 'display_address': ['338 E 92nd St', 'New York, NY 10128']}, 'phone': '+16469984600', 'display_phone': '(646) 998-4600', 'distance': 3466.9693248006906}\n",
      "\n",
      "\n",
      "\n",
      "{'id': 'NgD-6ogFGc_c4z5_Ur4k2g', 'alias': 'dhaba-indian-cuisine-new-york', 'name': 'Dhaba Indian Cuisine', 'image_url': 'https://s3-media2.fl.yelpcdn.com/bphoto/Efhl_heypCY732jne50d1g/o.jpg', 'is_closed': False, 'url': 'https://www.yelp.com/biz/dhaba-indian-cuisine-new-york?adjust_creative=bpGwj6-OcRw04j7y6Lh6hg&utm_campaign=yelp_api_v3&utm_medium=api_v3_business_search&utm_source=bpGwj6-OcRw04j7y6Lh6hg', 'review_count': 1437, 'categories': [{'alias': 'indpak', 'title': 'Indian'}, {'alias': 'buffets', 'title': 'Buffets'}], 'rating': 3.5, 'coordinates': {'latitude': 40.742364, 'longitude': -73.982813}, 'transactions': ['delivery', 'pickup'], 'price': '$$', 'location': {'address1': '108 Lexington Ave', 'address2': '', 'address3': None, 'city': 'New York', 'zip_code': '10016', 'country': 'US', 'state': 'NY', 'display_address': ['108 Lexington Ave', 'New York, NY 10016']}, 'phone': '+12126791284', 'display_phone': '(212) 679-1284', 'distance': 2017.8978602532272}\n",
      "\n",
      "\n",
      "\n",
      "{'id': '_7BGw3YFNOTzP1Www3zB7g', 'alias': 'mughlai-grill-new-york', 'name': 'Mughlai Grill', 'image_url': 'https://s3-media3.fl.yelpcdn.com/bphoto/R0MIGOkyV5I4sDlZLRVK3A/o.jpg', 'is_closed': False, 'url': 'https://www.yelp.com/biz/mughlai-grill-new-york?adjust_creative=bpGwj6-OcRw04j7y6Lh6hg&utm_campaign=yelp_api_v3&utm_medium=api_v3_business_search&utm_source=bpGwj6-OcRw04j7y6Lh6hg', 'review_count': 259, 'categories': [{'alias': 'indpak', 'title': 'Indian'}], 'rating': 4.5, 'coordinates': {'latitude': 40.7210905, 'longitude': -73.9840446}, 'transactions': ['delivery', 'pickup'], 'price': '$$', 'location': {'address1': '6 Clinton St', 'address2': '', 'address3': None, 'city': 'New York', 'zip_code': '10002', 'country': 'US', 'state': 'NY', 'display_address': ['6 Clinton St', 'New York, NY 10002']}, 'phone': '+12125332828', 'display_phone': '(212) 533-2828', 'distance': 4375.434923240767}\n",
      "\n",
      "\n",
      "\n"
     ]
    }
   ],
   "source": [
    "for i in range(0,10):\n",
    "    value = response.json()['businesses'][i]\n",
    "    print(value)\n",
    "    print('\\n\\n') #Seperate out data"
   ]
  },
  {
   "cell_type": "markdown",
   "metadata": {},
   "source": [
    "## Exploratory Analysis\n",
    "\n",
    "Take the restaurants from the previous question and do an intial exploratory analysis. At minimum, this should include looking at the distribution of features such as price, rating and number of reviews as well as the relations between these dimensions."
   ]
  },
  {
   "cell_type": "code",
   "execution_count": 8,
   "metadata": {},
   "outputs": [],
   "source": [
    "#Your code here\n",
    "import pandas as pd"
   ]
  },
  {
   "cell_type": "code",
   "execution_count": 9,
   "metadata": {},
   "outputs": [
    {
     "name": "stdout",
     "output_type": "stream",
     "text": [
      "10\n",
      "Index(['alias', 'categories', 'coordinates', 'display_phone', 'distance', 'id',\n",
      "       'image_url', 'is_closed', 'location', 'name', 'phone', 'price',\n",
      "       'rating', 'review_count', 'transactions', 'url'],\n",
      "      dtype='object')\n"
     ]
    },
    {
     "data": {
      "text/html": [
       "<div>\n",
       "<style scoped>\n",
       "    .dataframe tbody tr th:only-of-type {\n",
       "        vertical-align: middle;\n",
       "    }\n",
       "\n",
       "    .dataframe tbody tr th {\n",
       "        vertical-align: top;\n",
       "    }\n",
       "\n",
       "    .dataframe thead th {\n",
       "        text-align: right;\n",
       "    }\n",
       "</style>\n",
       "<table border=\"1\" class=\"dataframe\">\n",
       "  <thead>\n",
       "    <tr style=\"text-align: right;\">\n",
       "      <th></th>\n",
       "      <th>alias</th>\n",
       "      <th>categories</th>\n",
       "      <th>coordinates</th>\n",
       "      <th>display_phone</th>\n",
       "      <th>distance</th>\n",
       "      <th>id</th>\n",
       "      <th>image_url</th>\n",
       "      <th>is_closed</th>\n",
       "      <th>location</th>\n",
       "      <th>name</th>\n",
       "      <th>phone</th>\n",
       "      <th>price</th>\n",
       "      <th>rating</th>\n",
       "      <th>review_count</th>\n",
       "      <th>transactions</th>\n",
       "      <th>url</th>\n",
       "    </tr>\n",
       "  </thead>\n",
       "  <tbody>\n",
       "    <tr>\n",
       "      <th>0</th>\n",
       "      <td>bengal-tiger-indian-food-new-york</td>\n",
       "      <td>[{'alias': 'indpak', 'title': 'Indian'}]</td>\n",
       "      <td>{'latitude': 40.763167, 'longitude': -73.977131}</td>\n",
       "      <td>(212) 265-2703</td>\n",
       "      <td>347.928123</td>\n",
       "      <td>x0k5kFArHLijdY8-NEQ7Xg</td>\n",
       "      <td>https://s3-media1.fl.yelpcdn.com/bphoto/skrQkD...</td>\n",
       "      <td>False</td>\n",
       "      <td>{'address1': '58 W 56th St', 'address2': 'Fl 2...</td>\n",
       "      <td>Bengal Tiger Indian Food</td>\n",
       "      <td>+12122652703</td>\n",
       "      <td>$$</td>\n",
       "      <td>4.5</td>\n",
       "      <td>1434</td>\n",
       "      <td>[delivery, pickup]</td>\n",
       "      <td>https://www.yelp.com/biz/bengal-tiger-indian-f...</td>\n",
       "    </tr>\n",
       "    <tr>\n",
       "      <th>1</th>\n",
       "      <td>the-masalawala-new-york-2</td>\n",
       "      <td>[{'alias': 'indpak', 'title': 'Indian'}, {'ali...</td>\n",
       "      <td>{'latitude': 40.72191, 'longitude': -73.98666}</td>\n",
       "      <td>(212) 358-9300</td>\n",
       "      <td>4313.140136</td>\n",
       "      <td>sCC7-hSdCkNPExejZT9BAQ</td>\n",
       "      <td>https://s3-media4.fl.yelpcdn.com/bphoto/4fxSLo...</td>\n",
       "      <td>False</td>\n",
       "      <td>{'address1': '179 Essex St', 'address2': '', '...</td>\n",
       "      <td>The MasalaWala</td>\n",
       "      <td>+12123589300</td>\n",
       "      <td>$$</td>\n",
       "      <td>4.5</td>\n",
       "      <td>1304</td>\n",
       "      <td>[restaurant_reservation, delivery, pickup]</td>\n",
       "      <td>https://www.yelp.com/biz/the-masalawala-new-yo...</td>\n",
       "    </tr>\n",
       "    <tr>\n",
       "      <th>2</th>\n",
       "      <td>mughlai-indian-cuisine-new-york-4</td>\n",
       "      <td>[{'alias': 'indpak', 'title': 'Indian'}]</td>\n",
       "      <td>{'latitude': 40.78002, 'longitude': -73.94978}</td>\n",
       "      <td>(212) 722-6262</td>\n",
       "      <td>3269.304551</td>\n",
       "      <td>izRJeBfDQYJmd6ibIQ6Mfg</td>\n",
       "      <td>https://s3-media2.fl.yelpcdn.com/bphoto/DNsKer...</td>\n",
       "      <td>False</td>\n",
       "      <td>{'address1': '1724 2nd Ave', 'address2': '', '...</td>\n",
       "      <td>Mughlai Indian Cuisine</td>\n",
       "      <td>+12127226262</td>\n",
       "      <td>$$</td>\n",
       "      <td>4.5</td>\n",
       "      <td>381</td>\n",
       "      <td>[delivery, pickup]</td>\n",
       "      <td>https://www.yelp.com/biz/mughlai-indian-cuisin...</td>\n",
       "    </tr>\n",
       "    <tr>\n",
       "      <th>3</th>\n",
       "      <td>indian-accent-new-york</td>\n",
       "      <td>[{'alias': 'indpak', 'title': 'Indian'}]</td>\n",
       "      <td>{'latitude': 40.7643344624229, 'longitude': -7...</td>\n",
       "      <td>(212) 842-8070</td>\n",
       "      <td>458.485419</td>\n",
       "      <td>1_pK5aQ47atF50oAKHADhA</td>\n",
       "      <td>https://s3-media2.fl.yelpcdn.com/bphoto/QJrR6L...</td>\n",
       "      <td>False</td>\n",
       "      <td>{'address1': '123 W 56th St', 'address2': '', ...</td>\n",
       "      <td>Indian Accent</td>\n",
       "      <td>+12128428070</td>\n",
       "      <td>$$$$</td>\n",
       "      <td>4.5</td>\n",
       "      <td>466</td>\n",
       "      <td>[]</td>\n",
       "      <td>https://www.yelp.com/biz/indian-accent-new-yor...</td>\n",
       "    </tr>\n",
       "    <tr>\n",
       "      <th>4</th>\n",
       "      <td>pippali-new-york</td>\n",
       "      <td>[{'alias': 'indpak', 'title': 'Indian'}]</td>\n",
       "      <td>{'latitude': 40.74233, 'longitude': -73.98331}</td>\n",
       "      <td>(212) 689-1999</td>\n",
       "      <td>2027.800612</td>\n",
       "      <td>HEs6llkn3wIP1ATXeIZQew</td>\n",
       "      <td>https://s3-media2.fl.yelpcdn.com/bphoto/kqeBc_...</td>\n",
       "      <td>False</td>\n",
       "      <td>{'address1': '129 E 27th St', 'address2': '', ...</td>\n",
       "      <td>Pippali</td>\n",
       "      <td>+12126891999</td>\n",
       "      <td>$$</td>\n",
       "      <td>4.0</td>\n",
       "      <td>661</td>\n",
       "      <td>[restaurant_reservation, delivery, pickup]</td>\n",
       "      <td>https://www.yelp.com/biz/pippali-new-york?adju...</td>\n",
       "    </tr>\n",
       "  </tbody>\n",
       "</table>\n",
       "</div>"
      ],
      "text/plain": [
       "                               alias  \\\n",
       "0  bengal-tiger-indian-food-new-york   \n",
       "1          the-masalawala-new-york-2   \n",
       "2  mughlai-indian-cuisine-new-york-4   \n",
       "3             indian-accent-new-york   \n",
       "4                   pippali-new-york   \n",
       "\n",
       "                                          categories  \\\n",
       "0           [{'alias': 'indpak', 'title': 'Indian'}]   \n",
       "1  [{'alias': 'indpak', 'title': 'Indian'}, {'ali...   \n",
       "2           [{'alias': 'indpak', 'title': 'Indian'}]   \n",
       "3           [{'alias': 'indpak', 'title': 'Indian'}]   \n",
       "4           [{'alias': 'indpak', 'title': 'Indian'}]   \n",
       "\n",
       "                                         coordinates   display_phone  \\\n",
       "0   {'latitude': 40.763167, 'longitude': -73.977131}  (212) 265-2703   \n",
       "1     {'latitude': 40.72191, 'longitude': -73.98666}  (212) 358-9300   \n",
       "2     {'latitude': 40.78002, 'longitude': -73.94978}  (212) 722-6262   \n",
       "3  {'latitude': 40.7643344624229, 'longitude': -7...  (212) 842-8070   \n",
       "4     {'latitude': 40.74233, 'longitude': -73.98331}  (212) 689-1999   \n",
       "\n",
       "      distance                      id  \\\n",
       "0   347.928123  x0k5kFArHLijdY8-NEQ7Xg   \n",
       "1  4313.140136  sCC7-hSdCkNPExejZT9BAQ   \n",
       "2  3269.304551  izRJeBfDQYJmd6ibIQ6Mfg   \n",
       "3   458.485419  1_pK5aQ47atF50oAKHADhA   \n",
       "4  2027.800612  HEs6llkn3wIP1ATXeIZQew   \n",
       "\n",
       "                                           image_url  is_closed  \\\n",
       "0  https://s3-media1.fl.yelpcdn.com/bphoto/skrQkD...      False   \n",
       "1  https://s3-media4.fl.yelpcdn.com/bphoto/4fxSLo...      False   \n",
       "2  https://s3-media2.fl.yelpcdn.com/bphoto/DNsKer...      False   \n",
       "3  https://s3-media2.fl.yelpcdn.com/bphoto/QJrR6L...      False   \n",
       "4  https://s3-media2.fl.yelpcdn.com/bphoto/kqeBc_...      False   \n",
       "\n",
       "                                            location  \\\n",
       "0  {'address1': '58 W 56th St', 'address2': 'Fl 2...   \n",
       "1  {'address1': '179 Essex St', 'address2': '', '...   \n",
       "2  {'address1': '1724 2nd Ave', 'address2': '', '...   \n",
       "3  {'address1': '123 W 56th St', 'address2': '', ...   \n",
       "4  {'address1': '129 E 27th St', 'address2': '', ...   \n",
       "\n",
       "                       name         phone price  rating  review_count  \\\n",
       "0  Bengal Tiger Indian Food  +12122652703    $$     4.5          1434   \n",
       "1            The MasalaWala  +12123589300    $$     4.5          1304   \n",
       "2    Mughlai Indian Cuisine  +12127226262    $$     4.5           381   \n",
       "3             Indian Accent  +12128428070  $$$$     4.5           466   \n",
       "4                   Pippali  +12126891999    $$     4.0           661   \n",
       "\n",
       "                                 transactions  \\\n",
       "0                          [delivery, pickup]   \n",
       "1  [restaurant_reservation, delivery, pickup]   \n",
       "2                          [delivery, pickup]   \n",
       "3                                          []   \n",
       "4  [restaurant_reservation, delivery, pickup]   \n",
       "\n",
       "                                                 url  \n",
       "0  https://www.yelp.com/biz/bengal-tiger-indian-f...  \n",
       "1  https://www.yelp.com/biz/the-masalawala-new-yo...  \n",
       "2  https://www.yelp.com/biz/mughlai-indian-cuisin...  \n",
       "3  https://www.yelp.com/biz/indian-accent-new-yor...  \n",
       "4  https://www.yelp.com/biz/pippali-new-york?adju...  "
      ]
     },
     "execution_count": 9,
     "metadata": {},
     "output_type": "execute_result"
    }
   ],
   "source": [
    "df = pd.DataFrame.from_dict(response.json()['businesses'])\n",
    "print(len(df)) \n",
    "print(df.columns) \n",
    "df.head() "
   ]
  },
  {
   "cell_type": "code",
   "execution_count": 10,
   "metadata": {},
   "outputs": [],
   "source": [
    "df['num_price'] = df.price.str.len()"
   ]
  },
  {
   "cell_type": "code",
   "execution_count": 11,
   "metadata": {},
   "outputs": [
    {
     "data": {
      "text/html": [
       "<div>\n",
       "<style scoped>\n",
       "    .dataframe tbody tr th:only-of-type {\n",
       "        vertical-align: middle;\n",
       "    }\n",
       "\n",
       "    .dataframe tbody tr th {\n",
       "        vertical-align: top;\n",
       "    }\n",
       "\n",
       "    .dataframe thead th {\n",
       "        text-align: right;\n",
       "    }\n",
       "</style>\n",
       "<table border=\"1\" class=\"dataframe\">\n",
       "  <thead>\n",
       "    <tr style=\"text-align: right;\">\n",
       "      <th></th>\n",
       "      <th>alias</th>\n",
       "      <th>categories</th>\n",
       "      <th>coordinates</th>\n",
       "      <th>display_phone</th>\n",
       "      <th>distance</th>\n",
       "      <th>id</th>\n",
       "      <th>image_url</th>\n",
       "      <th>is_closed</th>\n",
       "      <th>location</th>\n",
       "      <th>name</th>\n",
       "      <th>phone</th>\n",
       "      <th>price</th>\n",
       "      <th>rating</th>\n",
       "      <th>review_count</th>\n",
       "      <th>transactions</th>\n",
       "      <th>url</th>\n",
       "      <th>num_price</th>\n",
       "    </tr>\n",
       "  </thead>\n",
       "  <tbody>\n",
       "    <tr>\n",
       "      <th>0</th>\n",
       "      <td>bengal-tiger-indian-food-new-york</td>\n",
       "      <td>[{'alias': 'indpak', 'title': 'Indian'}]</td>\n",
       "      <td>{'latitude': 40.763167, 'longitude': -73.977131}</td>\n",
       "      <td>(212) 265-2703</td>\n",
       "      <td>347.928123</td>\n",
       "      <td>x0k5kFArHLijdY8-NEQ7Xg</td>\n",
       "      <td>https://s3-media1.fl.yelpcdn.com/bphoto/skrQkD...</td>\n",
       "      <td>False</td>\n",
       "      <td>{'address1': '58 W 56th St', 'address2': 'Fl 2...</td>\n",
       "      <td>Bengal Tiger Indian Food</td>\n",
       "      <td>+12122652703</td>\n",
       "      <td>$$</td>\n",
       "      <td>4.5</td>\n",
       "      <td>1434</td>\n",
       "      <td>[delivery, pickup]</td>\n",
       "      <td>https://www.yelp.com/biz/bengal-tiger-indian-f...</td>\n",
       "      <td>2</td>\n",
       "    </tr>\n",
       "    <tr>\n",
       "      <th>1</th>\n",
       "      <td>the-masalawala-new-york-2</td>\n",
       "      <td>[{'alias': 'indpak', 'title': 'Indian'}, {'ali...</td>\n",
       "      <td>{'latitude': 40.72191, 'longitude': -73.98666}</td>\n",
       "      <td>(212) 358-9300</td>\n",
       "      <td>4313.140136</td>\n",
       "      <td>sCC7-hSdCkNPExejZT9BAQ</td>\n",
       "      <td>https://s3-media4.fl.yelpcdn.com/bphoto/4fxSLo...</td>\n",
       "      <td>False</td>\n",
       "      <td>{'address1': '179 Essex St', 'address2': '', '...</td>\n",
       "      <td>The MasalaWala</td>\n",
       "      <td>+12123589300</td>\n",
       "      <td>$$</td>\n",
       "      <td>4.5</td>\n",
       "      <td>1304</td>\n",
       "      <td>[restaurant_reservation, delivery, pickup]</td>\n",
       "      <td>https://www.yelp.com/biz/the-masalawala-new-yo...</td>\n",
       "      <td>2</td>\n",
       "    </tr>\n",
       "    <tr>\n",
       "      <th>2</th>\n",
       "      <td>mughlai-indian-cuisine-new-york-4</td>\n",
       "      <td>[{'alias': 'indpak', 'title': 'Indian'}]</td>\n",
       "      <td>{'latitude': 40.78002, 'longitude': -73.94978}</td>\n",
       "      <td>(212) 722-6262</td>\n",
       "      <td>3269.304551</td>\n",
       "      <td>izRJeBfDQYJmd6ibIQ6Mfg</td>\n",
       "      <td>https://s3-media2.fl.yelpcdn.com/bphoto/DNsKer...</td>\n",
       "      <td>False</td>\n",
       "      <td>{'address1': '1724 2nd Ave', 'address2': '', '...</td>\n",
       "      <td>Mughlai Indian Cuisine</td>\n",
       "      <td>+12127226262</td>\n",
       "      <td>$$</td>\n",
       "      <td>4.5</td>\n",
       "      <td>381</td>\n",
       "      <td>[delivery, pickup]</td>\n",
       "      <td>https://www.yelp.com/biz/mughlai-indian-cuisin...</td>\n",
       "      <td>2</td>\n",
       "    </tr>\n",
       "    <tr>\n",
       "      <th>3</th>\n",
       "      <td>indian-accent-new-york</td>\n",
       "      <td>[{'alias': 'indpak', 'title': 'Indian'}]</td>\n",
       "      <td>{'latitude': 40.7643344624229, 'longitude': -7...</td>\n",
       "      <td>(212) 842-8070</td>\n",
       "      <td>458.485419</td>\n",
       "      <td>1_pK5aQ47atF50oAKHADhA</td>\n",
       "      <td>https://s3-media2.fl.yelpcdn.com/bphoto/QJrR6L...</td>\n",
       "      <td>False</td>\n",
       "      <td>{'address1': '123 W 56th St', 'address2': '', ...</td>\n",
       "      <td>Indian Accent</td>\n",
       "      <td>+12128428070</td>\n",
       "      <td>$$$$</td>\n",
       "      <td>4.5</td>\n",
       "      <td>466</td>\n",
       "      <td>[]</td>\n",
       "      <td>https://www.yelp.com/biz/indian-accent-new-yor...</td>\n",
       "      <td>4</td>\n",
       "    </tr>\n",
       "    <tr>\n",
       "      <th>4</th>\n",
       "      <td>pippali-new-york</td>\n",
       "      <td>[{'alias': 'indpak', 'title': 'Indian'}]</td>\n",
       "      <td>{'latitude': 40.74233, 'longitude': -73.98331}</td>\n",
       "      <td>(212) 689-1999</td>\n",
       "      <td>2027.800612</td>\n",
       "      <td>HEs6llkn3wIP1ATXeIZQew</td>\n",
       "      <td>https://s3-media2.fl.yelpcdn.com/bphoto/kqeBc_...</td>\n",
       "      <td>False</td>\n",
       "      <td>{'address1': '129 E 27th St', 'address2': '', ...</td>\n",
       "      <td>Pippali</td>\n",
       "      <td>+12126891999</td>\n",
       "      <td>$$</td>\n",
       "      <td>4.0</td>\n",
       "      <td>661</td>\n",
       "      <td>[restaurant_reservation, delivery, pickup]</td>\n",
       "      <td>https://www.yelp.com/biz/pippali-new-york?adju...</td>\n",
       "      <td>2</td>\n",
       "    </tr>\n",
       "  </tbody>\n",
       "</table>\n",
       "</div>"
      ],
      "text/plain": [
       "                               alias  \\\n",
       "0  bengal-tiger-indian-food-new-york   \n",
       "1          the-masalawala-new-york-2   \n",
       "2  mughlai-indian-cuisine-new-york-4   \n",
       "3             indian-accent-new-york   \n",
       "4                   pippali-new-york   \n",
       "\n",
       "                                          categories  \\\n",
       "0           [{'alias': 'indpak', 'title': 'Indian'}]   \n",
       "1  [{'alias': 'indpak', 'title': 'Indian'}, {'ali...   \n",
       "2           [{'alias': 'indpak', 'title': 'Indian'}]   \n",
       "3           [{'alias': 'indpak', 'title': 'Indian'}]   \n",
       "4           [{'alias': 'indpak', 'title': 'Indian'}]   \n",
       "\n",
       "                                         coordinates   display_phone  \\\n",
       "0   {'latitude': 40.763167, 'longitude': -73.977131}  (212) 265-2703   \n",
       "1     {'latitude': 40.72191, 'longitude': -73.98666}  (212) 358-9300   \n",
       "2     {'latitude': 40.78002, 'longitude': -73.94978}  (212) 722-6262   \n",
       "3  {'latitude': 40.7643344624229, 'longitude': -7...  (212) 842-8070   \n",
       "4     {'latitude': 40.74233, 'longitude': -73.98331}  (212) 689-1999   \n",
       "\n",
       "      distance                      id  \\\n",
       "0   347.928123  x0k5kFArHLijdY8-NEQ7Xg   \n",
       "1  4313.140136  sCC7-hSdCkNPExejZT9BAQ   \n",
       "2  3269.304551  izRJeBfDQYJmd6ibIQ6Mfg   \n",
       "3   458.485419  1_pK5aQ47atF50oAKHADhA   \n",
       "4  2027.800612  HEs6llkn3wIP1ATXeIZQew   \n",
       "\n",
       "                                           image_url  is_closed  \\\n",
       "0  https://s3-media1.fl.yelpcdn.com/bphoto/skrQkD...      False   \n",
       "1  https://s3-media4.fl.yelpcdn.com/bphoto/4fxSLo...      False   \n",
       "2  https://s3-media2.fl.yelpcdn.com/bphoto/DNsKer...      False   \n",
       "3  https://s3-media2.fl.yelpcdn.com/bphoto/QJrR6L...      False   \n",
       "4  https://s3-media2.fl.yelpcdn.com/bphoto/kqeBc_...      False   \n",
       "\n",
       "                                            location  \\\n",
       "0  {'address1': '58 W 56th St', 'address2': 'Fl 2...   \n",
       "1  {'address1': '179 Essex St', 'address2': '', '...   \n",
       "2  {'address1': '1724 2nd Ave', 'address2': '', '...   \n",
       "3  {'address1': '123 W 56th St', 'address2': '', ...   \n",
       "4  {'address1': '129 E 27th St', 'address2': '', ...   \n",
       "\n",
       "                       name         phone price  rating  review_count  \\\n",
       "0  Bengal Tiger Indian Food  +12122652703    $$     4.5          1434   \n",
       "1            The MasalaWala  +12123589300    $$     4.5          1304   \n",
       "2    Mughlai Indian Cuisine  +12127226262    $$     4.5           381   \n",
       "3             Indian Accent  +12128428070  $$$$     4.5           466   \n",
       "4                   Pippali  +12126891999    $$     4.0           661   \n",
       "\n",
       "                                 transactions  \\\n",
       "0                          [delivery, pickup]   \n",
       "1  [restaurant_reservation, delivery, pickup]   \n",
       "2                          [delivery, pickup]   \n",
       "3                                          []   \n",
       "4  [restaurant_reservation, delivery, pickup]   \n",
       "\n",
       "                                                 url  num_price  \n",
       "0  https://www.yelp.com/biz/bengal-tiger-indian-f...          2  \n",
       "1  https://www.yelp.com/biz/the-masalawala-new-yo...          2  \n",
       "2  https://www.yelp.com/biz/mughlai-indian-cuisin...          2  \n",
       "3  https://www.yelp.com/biz/indian-accent-new-yor...          4  \n",
       "4  https://www.yelp.com/biz/pippali-new-york?adju...          2  "
      ]
     },
     "execution_count": 11,
     "metadata": {},
     "output_type": "execute_result"
    }
   ],
   "source": [
    "df.head()"
   ]
  },
  {
   "cell_type": "code",
   "execution_count": 12,
   "metadata": {},
   "outputs": [
    {
     "data": {
      "text/html": [
       "<div>\n",
       "<style scoped>\n",
       "    .dataframe tbody tr th:only-of-type {\n",
       "        vertical-align: middle;\n",
       "    }\n",
       "\n",
       "    .dataframe tbody tr th {\n",
       "        vertical-align: top;\n",
       "    }\n",
       "\n",
       "    .dataframe thead th {\n",
       "        text-align: right;\n",
       "    }\n",
       "</style>\n",
       "<table border=\"1\" class=\"dataframe\">\n",
       "  <thead>\n",
       "    <tr style=\"text-align: right;\">\n",
       "      <th></th>\n",
       "      <th>distance</th>\n",
       "      <th>rating</th>\n",
       "      <th>review_count</th>\n",
       "      <th>num_price</th>\n",
       "    </tr>\n",
       "  </thead>\n",
       "  <tbody>\n",
       "    <tr>\n",
       "      <th>count</th>\n",
       "      <td>10.000000</td>\n",
       "      <td>10.000000</td>\n",
       "      <td>10.000000</td>\n",
       "      <td>10.000000</td>\n",
       "    </tr>\n",
       "    <tr>\n",
       "      <th>mean</th>\n",
       "      <td>2502.622281</td>\n",
       "      <td>4.350000</td>\n",
       "      <td>737.100000</td>\n",
       "      <td>2.200000</td>\n",
       "    </tr>\n",
       "    <tr>\n",
       "      <th>std</th>\n",
       "      <td>1411.378246</td>\n",
       "      <td>0.337474</td>\n",
       "      <td>489.247143</td>\n",
       "      <td>0.632456</td>\n",
       "    </tr>\n",
       "    <tr>\n",
       "      <th>min</th>\n",
       "      <td>347.928123</td>\n",
       "      <td>3.500000</td>\n",
       "      <td>218.000000</td>\n",
       "      <td>2.000000</td>\n",
       "    </tr>\n",
       "    <tr>\n",
       "      <th>25%</th>\n",
       "      <td>1990.006403</td>\n",
       "      <td>4.500000</td>\n",
       "      <td>366.750000</td>\n",
       "      <td>2.000000</td>\n",
       "    </tr>\n",
       "    <tr>\n",
       "      <th>50%</th>\n",
       "      <td>2398.176612</td>\n",
       "      <td>4.500000</td>\n",
       "      <td>563.500000</td>\n",
       "      <td>2.000000</td>\n",
       "    </tr>\n",
       "    <tr>\n",
       "      <th>75%</th>\n",
       "      <td>3417.553131</td>\n",
       "      <td>4.500000</td>\n",
       "      <td>1190.250000</td>\n",
       "      <td>2.000000</td>\n",
       "    </tr>\n",
       "    <tr>\n",
       "      <th>max</th>\n",
       "      <td>4375.434923</td>\n",
       "      <td>4.500000</td>\n",
       "      <td>1437.000000</td>\n",
       "      <td>4.000000</td>\n",
       "    </tr>\n",
       "  </tbody>\n",
       "</table>\n",
       "</div>"
      ],
      "text/plain": [
       "          distance     rating  review_count  num_price\n",
       "count    10.000000  10.000000     10.000000  10.000000\n",
       "mean   2502.622281   4.350000    737.100000   2.200000\n",
       "std    1411.378246   0.337474    489.247143   0.632456\n",
       "min     347.928123   3.500000    218.000000   2.000000\n",
       "25%    1990.006403   4.500000    366.750000   2.000000\n",
       "50%    2398.176612   4.500000    563.500000   2.000000\n",
       "75%    3417.553131   4.500000   1190.250000   2.000000\n",
       "max    4375.434923   4.500000   1437.000000   4.000000"
      ]
     },
     "execution_count": 12,
     "metadata": {},
     "output_type": "execute_result"
    }
   ],
   "source": [
    "df.describe()"
   ]
  },
  {
   "cell_type": "code",
   "execution_count": 13,
   "metadata": {},
   "outputs": [],
   "source": [
    "import matplotlib.pyplot as plt\n",
    "%matplotlib inline"
   ]
  },
  {
   "cell_type": "code",
   "execution_count": 14,
   "metadata": {},
   "outputs": [
    {
     "data": {
      "text/plain": [
       "array([[<matplotlib.axes._subplots.AxesSubplot object at 0x000001C7A12F63C8>,\n",
       "        <matplotlib.axes._subplots.AxesSubplot object at 0x000001C7A159EF60>,\n",
       "        <matplotlib.axes._subplots.AxesSubplot object at 0x000001C7A15D0630>],\n",
       "       [<matplotlib.axes._subplots.AxesSubplot object at 0x000001C7A15F6CC0>,\n",
       "        <matplotlib.axes._subplots.AxesSubplot object at 0x000001C7A1626390>,\n",
       "        <matplotlib.axes._subplots.AxesSubplot object at 0x000001C7A16263C8>],\n",
       "       [<matplotlib.axes._subplots.AxesSubplot object at 0x000001C7A167E0F0>,\n",
       "        <matplotlib.axes._subplots.AxesSubplot object at 0x000001C7A16A7780>,\n",
       "        <matplotlib.axes._subplots.AxesSubplot object at 0x000001C7A16CEE10>]],\n",
       "      dtype=object)"
      ]
     },
     "execution_count": 14,
     "metadata": {},
     "output_type": "execute_result"
    },
    {
     "data": {
      "image/png": "[encoded data removed]",
      "text/plain": [
       "<Figure size 432x288 with 9 Axes>"
      ]
     },
     "metadata": {
      "needs_background": "light"
     },
     "output_type": "display_data"
    }
   ],
   "source": [
    "pd.plotting.scatter_matrix(df[['num_price', 'rating', 'review_count']])"
   ]
  },
  {
   "cell_type": "code",
   "execution_count": null,
   "metadata": {},
   "outputs": [],
   "source": []
  },
  {
   "cell_type": "markdown",
   "metadata": {},
   "source": [
    "## Mapping\n",
    "\n",
    "Look at the initial Yelp example and try and make a map using Folium of the restaurants you retrieved. Be sure to also add popups to the markers giving some basic information such as name, rating and price."
   ]
  },
  {
   "cell_type": "code",
   "execution_count": null,
   "metadata": {},
   "outputs": [],
   "source": []
  },
  {
   "cell_type": "code",
   "execution_count": null,
   "metadata": {},
   "outputs": [],
   "source": [
    "\n",
    "\n"
   ]
  },
  {
   "cell_type": "code",
   "execution_count": 15,
   "metadata": {},
   "outputs": [
    {
     "ename": "ModuleNotFoundError",
     "evalue": "No module named 'folium'",
     "output_type": "error",
     "traceback": [
      "\u001b[1;31m---------------------------------------------------------------------------\u001b[0m",
      "\u001b[1;31mModuleNotFoundError\u001b[0m                       Traceback (most recent call last)",
      "\u001b[1;32m<ipython-input-15-173c1173bf1c>\u001b[0m in \u001b[0;36m<module>\u001b[1;34m()\u001b[0m\n\u001b[1;32m----> 1\u001b[1;33m \u001b[1;32mimport\u001b[0m \u001b[0mfolium\u001b[0m\u001b[1;33m\u001b[0m\u001b[0m\n\u001b[0m",
      "\u001b[1;31mModuleNotFoundError\u001b[0m: No module named 'folium'"
     ]
    }
   ],
   "source": [
    "import folium"
   ]
  },
  {
   "cell_type": "code",
   "execution_count": null,
   "metadata": {},
   "outputs": [],
   "source": [
    "\n",
    "lat_long = df['coordinates'].iloc[0]\n",
    "lat = lat_long['latitude']\n",
    "long = lat_long['longitude']\n",
    "yelp_map = folium.Map([lat, long])\n",
    "\n",
    "for row in df.index:\n",
    "    try:\n",
    "        lat_long = df['coordinates'][row]\n",
    "        lat = lat_long['latitude']\n",
    "        long = lat_long['longitude']\n",
    "        name = df['name'][row]\n",
    "        rating = df['rating'][row]\n",
    "        price = df['num_price'][row]\n",
    "        details = \"{}\\nPrice: {} Rating:{}\".format(name,str(price),str(rating))\n",
    "        popup = folium.Popup(details, parse_html=True)\n",
    "        marker = folium.Marker([lat, long], popup=popup)\n",
    "        marker.add_to(yelp_map)\n",
    "    except:\n",
    "        print('Hit error on row: {}'.format(row))\n",
    "yelp_map"
   ]
  },
  {
   "cell_type": "markdown",
   "metadata": {},
   "source": [
    "## Summary\n",
    "\n",
    "Nice work! In this lab, you synthesized your skills for the day, making multiple API calls to Yelp in order to paginate through a results set, performing some basic exploratory analysis and then creating a nice map visual to display the results! Well done!"
   ]
  }
 ],
 "metadata": {
  "kernelspec": {
   "display_name": "Python 3",
   "language": "python",
   "name": "python3"
  },
  "language_info": {
   "codemirror_mode": {
    "name": "ipython",
    "version": 3
   },
   "file_extension": ".py",
   "mimetype": "text/x-python",
   "name": "python",
   "nbconvert_exporter": "python",
   "pygments_lexer": "ipython3",
   "version": "3.7.0"
  }
 },
 "nbformat": 4,
 "nbformat_minor": 2
}
